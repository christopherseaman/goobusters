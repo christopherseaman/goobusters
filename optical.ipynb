{
 "cells": [
  {
   "cell_type": "code",
   "execution_count": 10,
   "metadata": {},
   "outputs": [],
   "source": [
    "# Import libraries and set constants\n",
    "from dotenv import load_dotenv\n",
    "from os import getenv\n",
    "import mdai\n",
    "import json\n",
    "import cv2\n",
    "\n",
    "load_dotenv('dot.env')\n",
    "\n",
    "ACCESS_TOKEN = getenv('MDAI_TOKEN')\n",
    "DATA_DIR = getenv('DATA_DIR')\n",
    "JSON = getenv('JSON')\n",
    "DOMAIN = getenv('DOMAIN')\n",
    "PROJECT_ID = getenv('PROJECT_ID')\n",
    "DATASET_ID = getenv('DATASET_ID')"
   ]
  },
  {
   "cell_type": "code",
   "execution_count": 11,
   "metadata": {},
   "outputs": [
    {
     "name": "stdout",
     "output_type": "stream",
     "text": [
      "Successfully authenticated to ucsf.md.ai.\n"
     ]
    }
   ],
   "source": [
    "# Start MD.ai client\n",
    "mdai_client = mdai.Client(domain=DOMAIN, access_token=ACCESS_TOKEN)"
   ]
  },
  {
   "cell_type": "code",
   "execution_count": 12,
   "metadata": {},
   "outputs": [
    {
     "name": "stdout",
     "output_type": "stream",
     "text": [
      "Using path 'data' for data.\n",
      "Preparing annotations export for project x9N2LJBZ...                                                \n",
      "Using cached annotations data for project x9N2LJBZ.\n",
      "Preparing images export for project x9N2LJBZ...                                                     \n",
      "Using cached images data for project x9N2LJBZ.\n"
     ]
    }
   ],
   "source": [
    "# Download the dataset from MD.ai (or use cached version)\n",
    "p = mdai_client.project(project_id=PROJECT_ID, path=DATA_DIR)"
   ]
  },
  {
   "cell_type": "code",
   "execution_count": null,
   "metadata": {},
   "outputs": [],
   "source": []
  }
 ],
 "metadata": {
  "kernelspec": {
   "display_name": ".venv",
   "language": "python",
   "name": "python3"
  },
  "language_info": {
   "codemirror_mode": {
    "name": "ipython",
    "version": 3
   },
   "file_extension": ".py",
   "mimetype": "text/x-python",
   "name": "python",
   "nbconvert_exporter": "python",
   "pygments_lexer": "ipython3",
   "version": "3.11.2"
  }
 },
 "nbformat": 4,
 "nbformat_minor": 2
}
