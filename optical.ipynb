{
 "cells": [
  {
   "cell_type": "code",
   "execution_count": null,
   "metadata": {},
   "outputs": [],
   "source": [
    "# Import libraries and set constants\n",
    "from dotenv import load_dotenv\n",
    "import os\n",
    "import mdai\n",
    "from mdai.visualize import display_annotations\n",
    "import cv2\n",
    "import matplotlib.pyplot as plt\n",
    "import random\n",
    "import numpy as np\n",
    "\n",
    "DEBUG = False\n",
    "\n",
    "load_dotenv('dot.env')\n",
    "\n",
    "ACCESS_TOKEN = os.getenv('MDAI_TOKEN')\n",
    "DATA_DIR = os.getenv('DATA_DIR')\n",
    "DOMAIN = os.getenv('DOMAIN')\n",
    "PROJECT_ID = os.getenv('PROJECT_ID')\n",
    "DATASET_ID = os.getenv('DATASET_ID')\n",
    "ANNOTATIONS = os.path.join(DATA_DIR, os.getenv('ANNOTATIONS'))\n",
    "LABEL_ID = os.getenv('LABEL_ID')\n",
    "\n",
    "print(f\"ACCESS_TOKEN={ACCESS_TOKEN}\")\n",
    "print(f\"DATA_DIR={DATA_DIR}\")\n",
    "print(f\"DOMAIN={DOMAIN}\")\n",
    "print(f\"PROJECT_ID={PROJECT_ID}\")\n",
    "print(f\"DATASET_ID={DATASET_ID}\")\n",
    "print(f\"ANNOTATIONS={ANNOTATIONS}\")\n",
    "print(f\"LABEL_ID={LABEL_ID}\")"
   ]
  },
  {
   "cell_type": "code",
   "execution_count": null,
   "metadata": {},
   "outputs": [],
   "source": [
    "# Start MD.ai client\n",
    "mdai_client = mdai.Client(domain=DOMAIN, access_token=ACCESS_TOKEN)\n",
    "\n",
    "# Download the dataset from MD.ai (or use cached version)\n",
    "project = mdai_client.project(project_id=PROJECT_ID, path=DATA_DIR)\n",
    "BASE = project.datasets[0].images_dir"
   ]
  },
  {
   "cell_type": "code",
   "execution_count": null,
   "metadata": {},
   "outputs": [],
   "source": [
    "results = mdai.common_utils.json_to_dataframe(ANNOTATIONS)\n",
    "annotations_df = results['annotations']\n",
    "\n",
    "# Filter annotations for the free fluid label\n",
    "free_fluid_annotations = annotations_df[annotations_df['labelId'] == LABEL_ID]\n",
    "\n",
    "free_fluid_annotations.head()\n",
    "\n",
    "# Note on paths for each annotation\n",
    "# The columns StudyInstanceUID and SeriesInstanceUID are used to form the paths\n",
    "# {BASE}/{StudyInstanceUID}/{SeriesInstanceUID}.mp4"
   ]
  },
  {
   "cell_type": "code",
   "execution_count": null,
   "metadata": {},
   "outputs": [],
   "source": [
    "# Function to construct the video path\n",
    "def construct_video_path(base_dir, study_uid, series_uid):\n",
    "    return os.path.join(base_dir, study_uid, f\"{series_uid}.mp4\")\n",
    "\n",
    "# Add video paths to the dataframe using .loc to avoid the SettingWithCopyWarning\n",
    "free_fluid_annotations = free_fluid_annotations.copy()\n",
    "free_fluid_annotations.loc[:, 'video_path'] = free_fluid_annotations.apply(\n",
    "    lambda row: construct_video_path(BASE, row['StudyInstanceUID'], row['SeriesInstanceUID']), axis=1)\n",
    "\n",
    "# Check if video files exist and add the result to the dataframe using .loc\n",
    "free_fluid_annotations.loc[:, 'file_exists'] = free_fluid_annotations['video_path'].apply(os.path.exists)\n",
    "\n",
    "# Count the number of annotations with and without corresponding video files\n",
    "num_with_files = free_fluid_annotations['file_exists'].sum()\n",
    "num_without_files = len(free_fluid_annotations) - num_with_files\n",
    "\n",
    "print(f\"Annotations with corresponding video files: {num_with_files}\")\n",
    "print(f\"Annotations without corresponding video files: {num_without_files}\")\n"
   ]
  },
  {
   "cell_type": "code",
   "execution_count": null,
   "metadata": {},
   "outputs": [],
   "source": [
    "def display_annotation(row):\n",
    "    video_path = row['video_path']\n",
    "    frame_number = int(row['frameNumber'])\n",
    "    foreground = row['data']['foreground']\n",
    "\n",
    "    # Load the video file\n",
    "    cap = cv2.VideoCapture(video_path)\n",
    "    cap.set(cv2.CAP_PROP_POS_FRAMES, frame_number)\n",
    "    ret, frame = cap.read()\n",
    "    cap.release()\n",
    "\n",
    "    if ret:\n",
    "        # Convert the frame to RGB (OpenCV loads in BGR)\n",
    "        frame_rgb = cv2.cvtColor(frame, cv2.COLOR_BGR2RGB)\n",
    "\n",
    "        # Create a copy of the frame for annotation\n",
    "        frame_annotated = frame_rgb.copy()\n",
    "\n",
    "        # Draw the annotation on the frame\n",
    "        for polygon in foreground:\n",
    "            pts = np.array(polygon, np.int32)\n",
    "            pts = pts.reshape((-1, 1, 2))\n",
    "            cv2.polylines(frame_annotated, [pts], isClosed=True, color=(255, 0, 0), thickness=2)\n",
    "            cv2.fillPoly(frame_annotated, [pts], color=(255, 0, 0, 50))\n",
    "\n",
    "        # Display the frames\n",
    "        plt.figure(figsize=(10, 5))\n",
    "        plt.subplot(1, 2, 1)\n",
    "        plt.imshow(frame_rgb)\n",
    "        plt.title('Original Frame')\n",
    "\n",
    "        plt.subplot(1, 2, 2)\n",
    "        plt.imshow(frame_annotated)\n",
    "        plt.title('Annotated Frame')\n",
    "\n",
    "        plt.show()\n",
    "    else:\n",
    "        print(\"Failed to read the frame from the video.\")\n",
    "\n"
   ]
  },
  {
   "cell_type": "code",
   "execution_count": null,
   "metadata": {},
   "outputs": [],
   "source": [
    "\n",
    "# Select five random annotations with corresponding video files\n",
    "# random_annotations = free_fluid_annotations[free_fluid_annotations['file_exists']].sample(n=5, random_state=42)\n",
    "random_annotations = free_fluid_annotations[free_fluid_annotations['file_exists']].sample(n=5)\n",
    "\n",
    "# Display the selected annotations\n",
    "for index, row in random_annotations.iterrows():\n",
    "    display_annotation(row)"
   ]
  },
  {
   "cell_type": "code",
   "execution_count": null,
   "metadata": {},
   "outputs": [],
   "source": []
  }
 ],
 "metadata": {
  "kernelspec": {
   "display_name": ".venv",
   "language": "python",
   "name": "python3"
  },
  "language_info": {
   "codemirror_mode": {
    "name": "ipython",
    "version": 3
   },
   "file_extension": ".py",
   "mimetype": "text/x-python",
   "name": "python",
   "nbconvert_exporter": "python",
   "pygments_lexer": "ipython3",
   "version": "3.12.4"
  }
 },
 "nbformat": 4,
 "nbformat_minor": 2
}
